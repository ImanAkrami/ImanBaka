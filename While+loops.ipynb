{
 "cells": [
  {
   "cell_type": "code",
   "execution_count": 3,
   "metadata": {},
   "outputs": [
    {
     "name": "stdout",
     "output_type": "stream",
     "text": [
      "0 iman i am\n",
      "1 iman i am\n",
      "2 iman i am\n",
      "3 iman i am\n",
      "4 iman i am\n",
      "5 iman i am\n",
      "6 iman i am\n",
      "7 iman i am\n",
      "8 iman i am\n",
      "9 iman i am\n"
     ]
    }
   ],
   "source": [
    "x = 0\n",
    "\n",
    "while x < 10:\n",
    "    print x,'iman i am'\n",
    "    x += 1\n",
    "    "
   ]
  },
  {
   "cell_type": "code",
   "execution_count": 4,
   "metadata": {},
   "outputs": [
    {
     "name": "stdout",
     "output_type": "stream",
     "text": [
      "0 iman i am\n",
      "1 iman i am\n",
      "2 iman i am\n",
      "3 iman i am\n",
      "4 iman i am\n",
      "5 iman i am\n",
      "6 iman i am\n",
      "7 iman i am\n",
      "8 iman i am\n",
      "9 iman i am\n",
      "10 done\n"
     ]
    }
   ],
   "source": [
    "x = 0\n",
    "\n",
    "while x < 10:\n",
    "    print x,'iman i am'\n",
    "    x += 1\n",
    "else:\n",
    "    print x, 'done'"
   ]
  },
  {
   "cell_type": "code",
   "execution_count": 5,
   "metadata": {
    "collapsed": true
   },
   "outputs": [],
   "source": [
    "# break continue and pass"
   ]
  },
  {
   "cell_type": "code",
   "execution_count": 8,
   "metadata": {},
   "outputs": [
    {
     "name": "stdout",
     "output_type": "stream",
     "text": [
      "0 less than 10\n",
      "adding one to that\n",
      "going on...\n",
      "1 less than 10\n",
      "adding one to that\n",
      "going on...\n",
      "2 less than 10\n",
      "adding one to that\n",
      "3 now!!!!!!!!!!!!!!!!!\n"
     ]
    }
   ],
   "source": [
    "x = 0\n",
    "\n",
    "while x < 10:\n",
    "    print x,'less than 10'\n",
    "    print 'adding one to that'\n",
    "    x += 1\n",
    "    if x == 3:\n",
    "        print '3 now!!!!!!!!!!!!!!!!!'\n",
    "        break\n",
    "    else:\n",
    "        print 'going on...'\n",
    "        continue"
   ]
  },
  {
   "cell_type": "code",
   "execution_count": null,
   "metadata": {
    "collapsed": true
   },
   "outputs": [],
   "source": []
  }
 ],
 "metadata": {
  "kernelspec": {
   "display_name": "Python 2",
   "language": "python",
   "name": "python2"
  },
  "language_info": {
   "codemirror_mode": {
    "name": "ipython",
    "version": 2
   },
   "file_extension": ".py",
   "mimetype": "text/x-python",
   "name": "python",
   "nbconvert_exporter": "python",
   "pygments_lexer": "ipython2",
   "version": "2.7.13"
  }
 },
 "nbformat": 4,
 "nbformat_minor": 2
}

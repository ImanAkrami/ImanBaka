{
 "cells": [
  {
   "cell_type": "code",
   "execution_count": 2,
   "metadata": {},
   "outputs": [
    {
     "name": "stdout",
     "output_type": "stream",
     "text": [
      "it was true\n"
     ]
    }
   ],
   "source": [
    "if True:\n",
    "    print 'it was true'\n",
    "    "
   ]
  },
  {
   "cell_type": "code",
   "execution_count": 6,
   "metadata": {},
   "outputs": [
    {
     "name": "stdout",
     "output_type": "stream",
     "text": [
      "mwuhaha\n"
     ]
    }
   ],
   "source": [
    "x = False\n",
    "if x:\n",
    "    print 'x was true'\n",
    "else:\n",
    "    print 'mwuhaha'"
   ]
  },
  {
   "cell_type": "code",
   "execution_count": 7,
   "metadata": {},
   "outputs": [
    {
     "name": "stdout",
     "output_type": "stream",
     "text": [
      "x was true\n"
     ]
    }
   ],
   "source": [
    "x = True\n",
    "if x:\n",
    "    print 'x was true'\n",
    "else:\n",
    "    print 'mwuhaha'"
   ]
  },
  {
   "cell_type": "code",
   "execution_count": 8,
   "metadata": {},
   "outputs": [
    {
     "name": "stdout",
     "output_type": "stream",
     "text": [
      "wc bank\n"
     ]
    }
   ],
   "source": [
    "loc = 'bank'\n",
    "if loc == 'Auto Shop':\n",
    "    print 'welcone AS'\n",
    "elif loc == 'bank':\n",
    "    print 'wc bank'\n",
    "else:\n",
    "    print 'where then?'\n"
   ]
  },
  {
   "cell_type": "code",
   "execution_count": 9,
   "metadata": {
    "collapsed": true
   },
   "outputs": [],
   "source": [
    "person = 'sam'"
   ]
  },
  {
   "cell_type": "code",
   "execution_count": 12,
   "metadata": {},
   "outputs": [
    {
     "name": "stdout",
     "output_type": "stream",
     "text": [
      "what's your name?\n"
     ]
    }
   ],
   "source": [
    "if person == 'A':\n",
    "    print 'sam'\n",
    "else:\n",
    "    print \"what's your name?\""
   ]
  },
  {
   "cell_type": "code",
   "execution_count": null,
   "metadata": {
    "collapsed": true
   },
   "outputs": [],
   "source": []
  }
 ],
 "metadata": {
  "kernelspec": {
   "display_name": "Python 2",
   "language": "python",
   "name": "python2"
  },
  "language_info": {
   "codemirror_mode": {
    "name": "ipython",
    "version": 2
   },
   "file_extension": ".py",
   "mimetype": "text/x-python",
   "name": "python",
   "nbconvert_exporter": "python",
   "pygments_lexer": "ipython2",
   "version": "2.7.13"
  }
 },
 "nbformat": 4,
 "nbformat_minor": 2
}

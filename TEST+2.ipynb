{
 "cells": [
  {
   "cell_type": "code",
   "execution_count": 1,
   "metadata": {
    "collapsed": true
   },
   "outputs": [],
   "source": [
    "st = 'Print only the words that start with s in this sentence'"
   ]
  },
  {
   "cell_type": "code",
   "execution_count": 3,
   "metadata": {},
   "outputs": [
    {
     "name": "stdout",
     "output_type": "stream",
     "text": [
      "start\n",
      "s\n",
      "sentence\n"
     ]
    }
   ],
   "source": [
    "for word in st.split():\n",
    "    if word[0] == 's':\n",
    "        print word"
   ]
  },
  {
   "cell_type": "code",
   "execution_count": 5,
   "metadata": {},
   "outputs": [],
   "source": [
    "#Use range() to print all the even numbers from 0 to 10."
   ]
  },
  {
   "cell_type": "code",
   "execution_count": 8,
   "metadata": {},
   "outputs": [
    {
     "name": "stdout",
     "output_type": "stream",
     "text": [
      "0\n",
      "2\n",
      "4\n",
      "6\n",
      "8\n",
      "10\n"
     ]
    }
   ],
   "source": [
    "for x in range(0,11):\n",
    "    if x % 2 == 0:\n",
    "        print x"
   ]
  },
  {
   "cell_type": "code",
   "execution_count": 9,
   "metadata": {
    "collapsed": true
   },
   "outputs": [],
   "source": [
    "#Use List comprehension to create a list of all numbers between 1 and 50 that are divisible by 3."
   ]
  },
  {
   "cell_type": "code",
   "execution_count": 23,
   "metadata": {},
   "outputs": [],
   "source": [
    "list = [x for x in range(1,50) if x % 3 == 0]"
   ]
  },
  {
   "cell_type": "code",
   "execution_count": 22,
   "metadata": {},
   "outputs": [
    {
     "data": {
      "text/plain": [
       "[3, 6, 9, 12, 15, 18, 21, 24, 27, 30, 33, 36, 39, 42, 45, 48]"
      ]
     },
     "execution_count": 22,
     "metadata": {},
     "output_type": "execute_result"
    }
   ],
   "source": [
    "list"
   ]
  },
  {
   "cell_type": "code",
   "execution_count": 24,
   "metadata": {
    "collapsed": true
   },
   "outputs": [],
   "source": [
    "# Go through the string below and if the length of a word is even print \"even!\"\n",
    "#"
   ]
  },
  {
   "cell_type": "code",
   "execution_count": 25,
   "metadata": {
    "collapsed": true
   },
   "outputs": [],
   "source": [
    "st = 'Print every word in this sentence that has an even number of letters'"
   ]
  },
  {
   "cell_type": "code",
   "execution_count": 31,
   "metadata": {},
   "outputs": [
    {
     "data": {
      "text/plain": [
       "['Print',\n",
       " 'every',\n",
       " 'word',\n",
       " 'in',\n",
       " 'this',\n",
       " 'sentence',\n",
       " 'that',\n",
       " 'has',\n",
       " 'an',\n",
       " 'even',\n",
       " 'number',\n",
       " 'of',\n",
       " 'letters']"
      ]
     },
     "execution_count": 31,
     "metadata": {},
     "output_type": "execute_result"
    }
   ],
   "source": [
    "words = st.split()\n",
    "list = [wor for wor in words if len(word) % 2 == 0]\n",
    "list"
   ]
  },
  {
   "cell_type": "code",
   "execution_count": 32,
   "metadata": {},
   "outputs": [],
   "source": [
    "#Write a program that prints the integers from 1 to 100. But for multiples of three print \"Fizz\" instead of the number, and for the multiples of five print \"Buzz\". For numbers which are multiples of both three and five print \"FizzBuzz\".\n"
   ]
  },
  {
   "cell_type": "code",
   "execution_count": 36,
   "metadata": {},
   "outputs": [
    {
     "name": "stdout",
     "output_type": "stream",
     "text": [
      "1\n",
      "2\n",
      "fizz 3\n",
      "4\n",
      "buzz 5\n",
      "fizz 6\n",
      "7\n",
      "8\n",
      "fizz 9\n",
      "buzz 10\n",
      "11\n",
      "fizz 12\n",
      "13\n",
      "14\n",
      "fizz 15\n",
      "16\n",
      "17\n",
      "fizz 18\n",
      "19\n",
      "buzz 20\n",
      "fizz 21\n",
      "22\n",
      "23\n",
      "fizz 24\n",
      "buzz 25\n",
      "26\n",
      "fizz 27\n",
      "28\n",
      "29\n",
      "fizz 30\n",
      "31\n",
      "32\n",
      "fizz 33\n",
      "34\n",
      "buzz 35\n",
      "fizz 36\n",
      "37\n",
      "38\n",
      "fizz 39\n",
      "buzz 40\n",
      "41\n",
      "fizz 42\n",
      "43\n",
      "44\n",
      "fizz 45\n",
      "46\n",
      "47\n",
      "fizz 48\n",
      "49\n",
      "buzz 50\n",
      "fizz 51\n",
      "52\n",
      "53\n",
      "fizz 54\n",
      "buzz 55\n",
      "56\n",
      "fizz 57\n",
      "58\n",
      "59\n",
      "fizz 60\n",
      "61\n",
      "62\n",
      "fizz 63\n",
      "64\n",
      "buzz 65\n",
      "fizz 66\n",
      "67\n",
      "68\n",
      "fizz 69\n",
      "buzz 70\n",
      "71\n",
      "fizz 72\n",
      "73\n",
      "74\n",
      "fizz 75\n",
      "76\n",
      "77\n",
      "fizz 78\n",
      "79\n",
      "buzz 80\n",
      "fizz 81\n",
      "82\n",
      "83\n",
      "fizz 84\n",
      "buzz 85\n",
      "86\n",
      "fizz 87\n",
      "88\n",
      "89\n",
      "fizz 90\n",
      "91\n",
      "92\n",
      "fizz 93\n",
      "94\n",
      "buzz 95\n",
      "fizz 96\n",
      "97\n",
      "98\n",
      "fizz 99\n",
      "buzz 100\n"
     ]
    }
   ],
   "source": [
    "list = range(1,101)\n",
    "for x in list:\n",
    "    if x % 3 == 0:\n",
    "        print 'fizz',x\n",
    "    elif x % 5 == 0:\n",
    "        print 'buzz',x\n",
    "    else:\n",
    "        print x"
   ]
  },
  {
   "cell_type": "code",
   "execution_count": 37,
   "metadata": {
    "collapsed": true
   },
   "outputs": [],
   "source": [
    "#Use List Comprehension to create a list of the first letters of every word in the string below:"
   ]
  },
  {
   "cell_type": "code",
   "execution_count": 38,
   "metadata": {
    "collapsed": true
   },
   "outputs": [],
   "source": [
    "st = 'Create a list of the first letters of every word in this string'"
   ]
  },
  {
   "cell_type": "code",
   "execution_count": 40,
   "metadata": {},
   "outputs": [
    {
     "data": {
      "text/plain": [
       "['C', 'a', 'l', 'o', 't', 'f', 'l', 'o', 'e', 'w', 'i', 't', 's']"
      ]
     },
     "execution_count": 40,
     "metadata": {},
     "output_type": "execute_result"
    }
   ],
   "source": [
    "list = [x[0] for x in st.split()]\n",
    "list"
   ]
  },
  {
   "cell_type": "code",
   "execution_count": null,
   "metadata": {
    "collapsed": true
   },
   "outputs": [],
   "source": []
  }
 ],
 "metadata": {
  "kernelspec": {
   "display_name": "Python 2",
   "language": "python",
   "name": "python2"
  },
  "language_info": {
   "codemirror_mode": {
    "name": "ipython",
    "version": 2
   },
   "file_extension": ".py",
   "mimetype": "text/x-python",
   "name": "python",
   "nbconvert_exporter": "python",
   "pygments_lexer": "ipython2",
   "version": "2.7.13"
  }
 },
 "nbformat": 4,
 "nbformat_minor": 2
}
